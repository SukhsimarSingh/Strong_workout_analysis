{
 "cells": [
  {
   "cell_type": "markdown",
   "metadata": {
    "id": "tdr-_doATNER"
   },
   "source": [
    "# Imports"
   ]
  },
  {
   "cell_type": "code",
   "execution_count": 1,
   "metadata": {},
   "outputs": [],
   "source": [
    "import pandas as pd\n",
    "import plotly.express as px"
   ]
  },
  {
   "cell_type": "markdown",
   "metadata": {},
   "source": [
    "# Pullup data analysis"
   ]
  },
  {
   "cell_type": "code",
   "execution_count": 2,
   "metadata": {
    "executionInfo": {
     "elapsed": 204,
     "status": "ok",
     "timestamp": 1705342525618,
     "user": {
      "displayName": "Sukhsimar Singh",
      "userId": "01602699437951890112"
     },
     "user_tz": 300
    },
    "id": "CCIh-AFwmc5X"
   },
   "outputs": [],
   "source": [
    "text = open(\"./data/pullup_05_10_2025.txt\", 'r')"
   ]
  },
  {
   "cell_type": "code",
   "execution_count": 3,
   "metadata": {
    "executionInfo": {
     "elapsed": 356,
     "status": "ok",
     "timestamp": 1705342553951,
     "user": {
      "displayName": "Sukhsimar Singh",
      "userId": "01602699437951890112"
     },
     "user_tz": 300
    },
    "id": "Ec0irngTmzXD"
   },
   "outputs": [
    {
     "data": {
      "text/plain": [
       "['17.04.2023: 4 4 4 4 3\\n',\n",
       " '20.04.2023: 5 4 4 4 3\\n',\n",
       " '24.04.2023: 2 3 3 4 3\\n',\n",
       " '26.04.2023: 4 4 5 4 4\\n',\n",
       " '1.05.2023: 5 4 3 4 4\\n',\n",
       " '4.05.2023: 6 6 6 5 5\\n',\n",
       " '10.05.2023: 6 5 5 4 5\\n',\n",
       " '16.05.2023: 6 6 6 5 3\\n',\n",
       " '25.05.2023: 7 6 5 4 4\\n',\n",
       " '31.05.2023: 7 4 4 4 4\\n',\n",
       " '1.07.2023: 6 5 5 4 3\\n',\n",
       " '5.07.2023: 6 5 5 5 4\\n',\n",
       " '9.07.2023: 6 5 5 4 4\\n',\n",
       " '12.07.2023: 6 5 4 4 3\\n',\n",
       " '15.07.2023: 3 4 4 2 2\\n',\n",
       " '18.07.2023: 6 5 4 4 4\\n',\n",
       " '21.07.2023: 6 6 5 4 3\\n',\n",
       " '26.07.2023: 7 6 5 4 0\\n',\n",
       " '29.07.2023: 6 6 5 4 3\\n',\n",
       " '2.08.2023: 7 6 5 4 4\\n',\n",
       " '7.08.2023: 6 6 5 4 0\\n',\n",
       " '11.08.2023: 7 6 5 4 4\\n',\n",
       " '15.08.2023: 7 5 5 4 4\\n',\n",
       " '19.08.2023: 8 6 6 4 4\\n',\n",
       " '23.08.2023: 8 6 5 5 4\\n',\n",
       " '27.08.2023: 7 6 5 4 4\\n',\n",
       " '6.09.2023: 7 5 4 4 4\\n',\n",
       " '10.09.2023: 10 6 5 5 0\\n',\n",
       " '14.09.2023: 9 6 5 0 0\\n',\n",
       " '17.09.2023: 7 6 5 5 5\\n',\n",
       " '27.09.2023: 9 7 5 0 0\\n',\n",
       " '10.10.2023: 8 6 5 5 4\\n',\n",
       " '15.10.2023: 7 7 5 4 4\\n',\n",
       " '23.10.2023: 8 7 5 5 4\\n',\n",
       " '30.10.2023: 10 7 6 5 0\\n',\n",
       " '6.11.2023: 9 7 5 5 0\\n',\n",
       " '15.11.2023: 10 8 6 5 4\\n',\n",
       " '28.11.2023: 8 8 7 5 4\\n',\n",
       " '4.12.2023: 10 7 6 6 5\\n',\n",
       " '19.12.2023: 9 6 6 5 5\\n',\n",
       " '28.12.2023: 11 9 6 5 6\\n',\n",
       " '8.01.2024: 10 7 6 5 5\\n',\n",
       " '15.01.2024: 11 7 5 5 4\\n',\n",
       " '21.01.2024: 10 9 6 6 5\\n',\n",
       " '26.01.2024: 11 8 6 6 4\\n',\n",
       " '29.01.2024: 11 9 6 5 4\\n',\n",
       " '5.02.2024: 10 7 6 5 5\\n',\n",
       " '20.02.2024: 12 10 7 6 5\\n',\n",
       " '24.02.2024: 10 8 7 6 5\\n',\n",
       " '17.03.2024: 10 6 5 5 4\\n',\n",
       " '26.03.2024: 10 7 6 6 3\\n',\n",
       " '2.04.2024: 10 6 5 3 3\\n',\n",
       " '8.04.2024: 10 8 8 4 4\\n',\n",
       " '10.04.2024: 8 7 7 5 4\\n',\n",
       " '17.04.2024: 10 8 6 5 4\\n',\n",
       " '10.08.2024: 4 5 5 4 4\\n',\n",
       " '22.08.2024: 6 3 3 3 3\\n',\n",
       " '28.08.2024: 5 5 5 5 5\\n',\n",
       " '5.10.2024: 5 5 4 4 4\\n',\n",
       " '8.12.2024: 6 5 5 4 3\\n',\n",
       " '9.03.2025: 6 6 5 5 4\\n',\n",
       " '21.03.2025: 6 5 4 4 4\\n',\n",
       " '25.03.2025: 6 6 5 4 5\\n',\n",
       " '27.04.2025: 4 4 4 4 4']"
      ]
     },
     "execution_count": 3,
     "metadata": {},
     "output_type": "execute_result"
    }
   ],
   "source": [
    "content_list = text.readlines()\n",
    "content_list"
   ]
  },
  {
   "cell_type": "code",
   "execution_count": 4,
   "metadata": {
    "colab": {
     "base_uri": "https://localhost:8080/",
     "height": 0
    },
    "executionInfo": {
     "elapsed": 7,
     "status": "ok",
     "timestamp": 1705342553951,
     "user": {
      "displayName": "Sukhsimar Singh",
      "userId": "01602699437951890112"
     },
     "user_tz": 300
    },
    "id": "ATVU5rwqouaH",
    "outputId": "92f5f5ef-de98-439a-ffa7-3f26d072cf65"
   },
   "outputs": [
    {
     "data": {
      "text/plain": [
       "'20.04.2023: 5 4 4 4 3\\n'"
      ]
     },
     "execution_count": 4,
     "metadata": {},
     "output_type": "execute_result"
    }
   ],
   "source": [
    "content_list[1]"
   ]
  },
  {
   "cell_type": "code",
   "execution_count": 5,
   "metadata": {
    "executionInfo": {
     "elapsed": 6,
     "status": "ok",
     "timestamp": 1705342553952,
     "user": {
      "displayName": "Sukhsimar Singh",
      "userId": "01602699437951890112"
     },
     "user_tz": 300
    },
    "id": "SQascobPo8IH"
   },
   "outputs": [
    {
     "data": {
      "text/plain": [
       "['20.04.2023', ' 5 4 4 4 3\\n']"
      ]
     },
     "execution_count": 5,
     "metadata": {},
     "output_type": "execute_result"
    }
   ],
   "source": [
    "clean = content_list[1].split(':')\n",
    "clean"
   ]
  },
  {
   "cell_type": "code",
   "execution_count": 6,
   "metadata": {
    "colab": {
     "base_uri": "https://localhost:8080/",
     "height": 0
    },
    "executionInfo": {
     "elapsed": 199,
     "status": "ok",
     "timestamp": 1705342554147,
     "user": {
      "displayName": "Sukhsimar Singh",
      "userId": "01602699437951890112"
     },
     "user_tz": 300
    },
    "id": "5xp7h8UfpZw_",
    "outputId": "7888da55-3ece-4983-edcd-ec70c1ed52f7"
   },
   "outputs": [
    {
     "data": {
      "text/plain": [
       "'5 4 4 4 3'"
      ]
     },
     "execution_count": 6,
     "metadata": {},
     "output_type": "execute_result"
    }
   ],
   "source": [
    "clean[1][1:].replace(\"\\n\", \"\")"
   ]
  },
  {
   "cell_type": "code",
   "execution_count": 7,
   "metadata": {
    "executionInfo": {
     "elapsed": 7,
     "status": "ok",
     "timestamp": 1705342554147,
     "user": {
      "displayName": "Sukhsimar Singh",
      "userId": "01602699437951890112"
     },
     "user_tz": 300
    },
    "id": "02gN1uH0phIb"
   },
   "outputs": [],
   "source": [
    "cleaned_list = []\n",
    "for item in content_list:\n",
    "  clean = item.split(':')\n",
    "  clean[1] = clean[1][1:].replace(\"\\n\", \"\")\n",
    "  cleaned_list.append(clean)"
   ]
  },
  {
   "cell_type": "code",
   "execution_count": 8,
   "metadata": {
    "colab": {
     "base_uri": "https://localhost:8080/"
    },
    "executionInfo": {
     "elapsed": 6,
     "status": "ok",
     "timestamp": 1705342554147,
     "user": {
      "displayName": "Sukhsimar Singh",
      "userId": "01602699437951890112"
     },
     "user_tz": 300
    },
    "id": "fYZ3brXpqFhf",
    "outputId": "69171a68-77a9-4a4d-ed32-b6af4fb67c0f"
   },
   "outputs": [
    {
     "data": {
      "text/plain": [
       "[['17.04.2023', '4 4 4 4 3'],\n",
       " ['20.04.2023', '5 4 4 4 3'],\n",
       " ['24.04.2023', '2 3 3 4 3'],\n",
       " ['26.04.2023', '4 4 5 4 4'],\n",
       " ['1.05.2023', '5 4 3 4 4'],\n",
       " ['4.05.2023', '6 6 6 5 5'],\n",
       " ['10.05.2023', '6 5 5 4 5'],\n",
       " ['16.05.2023', '6 6 6 5 3'],\n",
       " ['25.05.2023', '7 6 5 4 4'],\n",
       " ['31.05.2023', '7 4 4 4 4'],\n",
       " ['1.07.2023', '6 5 5 4 3'],\n",
       " ['5.07.2023', '6 5 5 5 4'],\n",
       " ['9.07.2023', '6 5 5 4 4'],\n",
       " ['12.07.2023', '6 5 4 4 3'],\n",
       " ['15.07.2023', '3 4 4 2 2'],\n",
       " ['18.07.2023', '6 5 4 4 4'],\n",
       " ['21.07.2023', '6 6 5 4 3'],\n",
       " ['26.07.2023', '7 6 5 4 0'],\n",
       " ['29.07.2023', '6 6 5 4 3'],\n",
       " ['2.08.2023', '7 6 5 4 4'],\n",
       " ['7.08.2023', '6 6 5 4 0'],\n",
       " ['11.08.2023', '7 6 5 4 4'],\n",
       " ['15.08.2023', '7 5 5 4 4'],\n",
       " ['19.08.2023', '8 6 6 4 4'],\n",
       " ['23.08.2023', '8 6 5 5 4'],\n",
       " ['27.08.2023', '7 6 5 4 4'],\n",
       " ['6.09.2023', '7 5 4 4 4'],\n",
       " ['10.09.2023', '10 6 5 5 0'],\n",
       " ['14.09.2023', '9 6 5 0 0'],\n",
       " ['17.09.2023', '7 6 5 5 5'],\n",
       " ['27.09.2023', '9 7 5 0 0'],\n",
       " ['10.10.2023', '8 6 5 5 4'],\n",
       " ['15.10.2023', '7 7 5 4 4'],\n",
       " ['23.10.2023', '8 7 5 5 4'],\n",
       " ['30.10.2023', '10 7 6 5 0'],\n",
       " ['6.11.2023', '9 7 5 5 0'],\n",
       " ['15.11.2023', '10 8 6 5 4'],\n",
       " ['28.11.2023', '8 8 7 5 4'],\n",
       " ['4.12.2023', '10 7 6 6 5'],\n",
       " ['19.12.2023', '9 6 6 5 5'],\n",
       " ['28.12.2023', '11 9 6 5 6'],\n",
       " ['8.01.2024', '10 7 6 5 5'],\n",
       " ['15.01.2024', '11 7 5 5 4'],\n",
       " ['21.01.2024', '10 9 6 6 5'],\n",
       " ['26.01.2024', '11 8 6 6 4'],\n",
       " ['29.01.2024', '11 9 6 5 4'],\n",
       " ['5.02.2024', '10 7 6 5 5'],\n",
       " ['20.02.2024', '12 10 7 6 5'],\n",
       " ['24.02.2024', '10 8 7 6 5'],\n",
       " ['17.03.2024', '10 6 5 5 4'],\n",
       " ['26.03.2024', '10 7 6 6 3'],\n",
       " ['2.04.2024', '10 6 5 3 3'],\n",
       " ['8.04.2024', '10 8 8 4 4'],\n",
       " ['10.04.2024', '8 7 7 5 4'],\n",
       " ['17.04.2024', '10 8 6 5 4'],\n",
       " ['10.08.2024', '4 5 5 4 4'],\n",
       " ['22.08.2024', '6 3 3 3 3'],\n",
       " ['28.08.2024', '5 5 5 5 5'],\n",
       " ['5.10.2024', '5 5 4 4 4'],\n",
       " ['8.12.2024', '6 5 5 4 3'],\n",
       " ['9.03.2025', '6 6 5 5 4'],\n",
       " ['21.03.2025', '6 5 4 4 4'],\n",
       " ['25.03.2025', '6 6 5 4 5'],\n",
       " ['27.04.2025', '4 4 4 4 4']]"
      ]
     },
     "execution_count": 8,
     "metadata": {},
     "output_type": "execute_result"
    }
   ],
   "source": [
    "cleaned_list"
   ]
  },
  {
   "cell_type": "code",
   "execution_count": 9,
   "metadata": {
    "executionInfo": {
     "elapsed": 10,
     "status": "ok",
     "timestamp": 1705342554561,
     "user": {
      "displayName": "Sukhsimar Singh",
      "userId": "01602699437951890112"
     },
     "user_tz": 300
    },
    "id": "sNWrxcRHsOWC"
   },
   "outputs": [],
   "source": [
    "df = pd.DataFrame(cleaned_list, columns=['Date', 'Sets'])"
   ]
  },
  {
   "cell_type": "code",
   "execution_count": 10,
   "metadata": {
    "colab": {
     "base_uri": "https://localhost:8080/",
     "height": 0
    },
    "executionInfo": {
     "elapsed": 10,
     "status": "ok",
     "timestamp": 1705342554562,
     "user": {
      "displayName": "Sukhsimar Singh",
      "userId": "01602699437951890112"
     },
     "user_tz": 300
    },
    "id": "8mX6_xyhsVTS",
    "outputId": "d47a2d7d-61f3-44d7-bc98-fa0fba414b01"
   },
   "outputs": [
    {
     "data": {
      "text/html": [
       "<div>\n",
       "<style scoped>\n",
       "    .dataframe tbody tr th:only-of-type {\n",
       "        vertical-align: middle;\n",
       "    }\n",
       "\n",
       "    .dataframe tbody tr th {\n",
       "        vertical-align: top;\n",
       "    }\n",
       "\n",
       "    .dataframe thead th {\n",
       "        text-align: right;\n",
       "    }\n",
       "</style>\n",
       "<table border=\"1\" class=\"dataframe\">\n",
       "  <thead>\n",
       "    <tr style=\"text-align: right;\">\n",
       "      <th></th>\n",
       "      <th>Date</th>\n",
       "      <th>Sets</th>\n",
       "    </tr>\n",
       "  </thead>\n",
       "  <tbody>\n",
       "    <tr>\n",
       "      <th>0</th>\n",
       "      <td>17.04.2023</td>\n",
       "      <td>4 4 4 4 3</td>\n",
       "    </tr>\n",
       "    <tr>\n",
       "      <th>1</th>\n",
       "      <td>20.04.2023</td>\n",
       "      <td>5 4 4 4 3</td>\n",
       "    </tr>\n",
       "    <tr>\n",
       "      <th>2</th>\n",
       "      <td>24.04.2023</td>\n",
       "      <td>2 3 3 4 3</td>\n",
       "    </tr>\n",
       "    <tr>\n",
       "      <th>3</th>\n",
       "      <td>26.04.2023</td>\n",
       "      <td>4 4 5 4 4</td>\n",
       "    </tr>\n",
       "    <tr>\n",
       "      <th>4</th>\n",
       "      <td>1.05.2023</td>\n",
       "      <td>5 4 3 4 4</td>\n",
       "    </tr>\n",
       "    <tr>\n",
       "      <th>...</th>\n",
       "      <td>...</td>\n",
       "      <td>...</td>\n",
       "    </tr>\n",
       "    <tr>\n",
       "      <th>59</th>\n",
       "      <td>8.12.2024</td>\n",
       "      <td>6 5 5 4 3</td>\n",
       "    </tr>\n",
       "    <tr>\n",
       "      <th>60</th>\n",
       "      <td>9.03.2025</td>\n",
       "      <td>6 6 5 5 4</td>\n",
       "    </tr>\n",
       "    <tr>\n",
       "      <th>61</th>\n",
       "      <td>21.03.2025</td>\n",
       "      <td>6 5 4 4 4</td>\n",
       "    </tr>\n",
       "    <tr>\n",
       "      <th>62</th>\n",
       "      <td>25.03.2025</td>\n",
       "      <td>6 6 5 4 5</td>\n",
       "    </tr>\n",
       "    <tr>\n",
       "      <th>63</th>\n",
       "      <td>27.04.2025</td>\n",
       "      <td>4 4 4 4 4</td>\n",
       "    </tr>\n",
       "  </tbody>\n",
       "</table>\n",
       "<p>64 rows × 2 columns</p>\n",
       "</div>"
      ],
      "text/plain": [
       "          Date       Sets\n",
       "0   17.04.2023  4 4 4 4 3\n",
       "1   20.04.2023  5 4 4 4 3\n",
       "2   24.04.2023  2 3 3 4 3\n",
       "3   26.04.2023  4 4 5 4 4\n",
       "4    1.05.2023  5 4 3 4 4\n",
       "..         ...        ...\n",
       "59   8.12.2024  6 5 5 4 3\n",
       "60   9.03.2025  6 6 5 5 4\n",
       "61  21.03.2025  6 5 4 4 4\n",
       "62  25.03.2025  6 6 5 4 5\n",
       "63  27.04.2025  4 4 4 4 4\n",
       "\n",
       "[64 rows x 2 columns]"
      ]
     },
     "execution_count": 10,
     "metadata": {},
     "output_type": "execute_result"
    }
   ],
   "source": [
    "df"
   ]
  },
  {
   "cell_type": "code",
   "execution_count": 11,
   "metadata": {
    "executionInfo": {
     "elapsed": 8,
     "status": "ok",
     "timestamp": 1705342554562,
     "user": {
      "displayName": "Sukhsimar Singh",
      "userId": "01602699437951890112"
     },
     "user_tz": 300
    },
    "id": "dSYj-l6TvPr1"
   },
   "outputs": [],
   "source": [
    "sets = []\n",
    "for i in df['Sets']:\n",
    "  sets.append(i)"
   ]
  },
  {
   "cell_type": "code",
   "execution_count": 12,
   "metadata": {
    "colab": {
     "base_uri": "https://localhost:8080/"
    },
    "executionInfo": {
     "elapsed": 9,
     "status": "ok",
     "timestamp": 1705342554563,
     "user": {
      "displayName": "Sukhsimar Singh",
      "userId": "01602699437951890112"
     },
     "user_tz": 300
    },
    "id": "730DPS5YvdhA",
    "outputId": "fc2ebdc3-512b-42a4-9f46-2683762b9c40"
   },
   "outputs": [
    {
     "data": {
      "text/plain": [
       "['4 4 4 4 3',\n",
       " '5 4 4 4 3',\n",
       " '2 3 3 4 3',\n",
       " '4 4 5 4 4',\n",
       " '5 4 3 4 4',\n",
       " '6 6 6 5 5',\n",
       " '6 5 5 4 5',\n",
       " '6 6 6 5 3',\n",
       " '7 6 5 4 4',\n",
       " '7 4 4 4 4',\n",
       " '6 5 5 4 3',\n",
       " '6 5 5 5 4',\n",
       " '6 5 5 4 4',\n",
       " '6 5 4 4 3',\n",
       " '3 4 4 2 2',\n",
       " '6 5 4 4 4',\n",
       " '6 6 5 4 3',\n",
       " '7 6 5 4 0',\n",
       " '6 6 5 4 3',\n",
       " '7 6 5 4 4',\n",
       " '6 6 5 4 0',\n",
       " '7 6 5 4 4',\n",
       " '7 5 5 4 4',\n",
       " '8 6 6 4 4',\n",
       " '8 6 5 5 4',\n",
       " '7 6 5 4 4',\n",
       " '7 5 4 4 4',\n",
       " '10 6 5 5 0',\n",
       " '9 6 5 0 0',\n",
       " '7 6 5 5 5',\n",
       " '9 7 5 0 0',\n",
       " '8 6 5 5 4',\n",
       " '7 7 5 4 4',\n",
       " '8 7 5 5 4',\n",
       " '10 7 6 5 0',\n",
       " '9 7 5 5 0',\n",
       " '10 8 6 5 4',\n",
       " '8 8 7 5 4',\n",
       " '10 7 6 6 5',\n",
       " '9 6 6 5 5',\n",
       " '11 9 6 5 6',\n",
       " '10 7 6 5 5',\n",
       " '11 7 5 5 4',\n",
       " '10 9 6 6 5',\n",
       " '11 8 6 6 4',\n",
       " '11 9 6 5 4',\n",
       " '10 7 6 5 5',\n",
       " '12 10 7 6 5',\n",
       " '10 8 7 6 5',\n",
       " '10 6 5 5 4',\n",
       " '10 7 6 6 3',\n",
       " '10 6 5 3 3',\n",
       " '10 8 8 4 4',\n",
       " '8 7 7 5 4',\n",
       " '10 8 6 5 4',\n",
       " '4 5 5 4 4',\n",
       " '6 3 3 3 3',\n",
       " '5 5 5 5 5',\n",
       " '5 5 4 4 4',\n",
       " '6 5 5 4 3',\n",
       " '6 6 5 5 4',\n",
       " '6 5 4 4 4',\n",
       " '6 6 5 4 5',\n",
       " '4 4 4 4 4']"
      ]
     },
     "execution_count": 12,
     "metadata": {},
     "output_type": "execute_result"
    }
   ],
   "source": [
    "sets"
   ]
  },
  {
   "cell_type": "code",
   "execution_count": 13,
   "metadata": {
    "executionInfo": {
     "elapsed": 8,
     "status": "ok",
     "timestamp": 1705342554563,
     "user": {
      "displayName": "Sukhsimar Singh",
      "userId": "01602699437951890112"
     },
     "user_tz": 300
    },
    "id": "TPOWOMb8vsQV"
   },
   "outputs": [],
   "source": [
    "set_list = []\n",
    "for i in sets:\n",
    "  item = i.split()\n",
    "  set_list.append(item)"
   ]
  },
  {
   "cell_type": "code",
   "execution_count": 14,
   "metadata": {
    "colab": {
     "base_uri": "https://localhost:8080/"
    },
    "executionInfo": {
     "elapsed": 7,
     "status": "ok",
     "timestamp": 1705342554563,
     "user": {
      "displayName": "Sukhsimar Singh",
      "userId": "01602699437951890112"
     },
     "user_tz": 300
    },
    "id": "o7N7IEQdwVtR",
    "outputId": "681e90e6-f1c2-45e3-92e3-693e58d77287"
   },
   "outputs": [
    {
     "data": {
      "text/plain": [
       "[['4', '4', '4', '4', '3'],\n",
       " ['5', '4', '4', '4', '3'],\n",
       " ['2', '3', '3', '4', '3'],\n",
       " ['4', '4', '5', '4', '4'],\n",
       " ['5', '4', '3', '4', '4'],\n",
       " ['6', '6', '6', '5', '5'],\n",
       " ['6', '5', '5', '4', '5'],\n",
       " ['6', '6', '6', '5', '3'],\n",
       " ['7', '6', '5', '4', '4'],\n",
       " ['7', '4', '4', '4', '4'],\n",
       " ['6', '5', '5', '4', '3'],\n",
       " ['6', '5', '5', '5', '4'],\n",
       " ['6', '5', '5', '4', '4'],\n",
       " ['6', '5', '4', '4', '3'],\n",
       " ['3', '4', '4', '2', '2'],\n",
       " ['6', '5', '4', '4', '4'],\n",
       " ['6', '6', '5', '4', '3'],\n",
       " ['7', '6', '5', '4', '0'],\n",
       " ['6', '6', '5', '4', '3'],\n",
       " ['7', '6', '5', '4', '4'],\n",
       " ['6', '6', '5', '4', '0'],\n",
       " ['7', '6', '5', '4', '4'],\n",
       " ['7', '5', '5', '4', '4'],\n",
       " ['8', '6', '6', '4', '4'],\n",
       " ['8', '6', '5', '5', '4'],\n",
       " ['7', '6', '5', '4', '4'],\n",
       " ['7', '5', '4', '4', '4'],\n",
       " ['10', '6', '5', '5', '0'],\n",
       " ['9', '6', '5', '0', '0'],\n",
       " ['7', '6', '5', '5', '5'],\n",
       " ['9', '7', '5', '0', '0'],\n",
       " ['8', '6', '5', '5', '4'],\n",
       " ['7', '7', '5', '4', '4'],\n",
       " ['8', '7', '5', '5', '4'],\n",
       " ['10', '7', '6', '5', '0'],\n",
       " ['9', '7', '5', '5', '0'],\n",
       " ['10', '8', '6', '5', '4'],\n",
       " ['8', '8', '7', '5', '4'],\n",
       " ['10', '7', '6', '6', '5'],\n",
       " ['9', '6', '6', '5', '5'],\n",
       " ['11', '9', '6', '5', '6'],\n",
       " ['10', '7', '6', '5', '5'],\n",
       " ['11', '7', '5', '5', '4'],\n",
       " ['10', '9', '6', '6', '5'],\n",
       " ['11', '8', '6', '6', '4'],\n",
       " ['11', '9', '6', '5', '4'],\n",
       " ['10', '7', '6', '5', '5'],\n",
       " ['12', '10', '7', '6', '5'],\n",
       " ['10', '8', '7', '6', '5'],\n",
       " ['10', '6', '5', '5', '4'],\n",
       " ['10', '7', '6', '6', '3'],\n",
       " ['10', '6', '5', '3', '3'],\n",
       " ['10', '8', '8', '4', '4'],\n",
       " ['8', '7', '7', '5', '4'],\n",
       " ['10', '8', '6', '5', '4'],\n",
       " ['4', '5', '5', '4', '4'],\n",
       " ['6', '3', '3', '3', '3'],\n",
       " ['5', '5', '5', '5', '5'],\n",
       " ['5', '5', '4', '4', '4'],\n",
       " ['6', '5', '5', '4', '3'],\n",
       " ['6', '6', '5', '5', '4'],\n",
       " ['6', '5', '4', '4', '4'],\n",
       " ['6', '6', '5', '4', '5'],\n",
       " ['4', '4', '4', '4', '4']]"
      ]
     },
     "execution_count": 14,
     "metadata": {},
     "output_type": "execute_result"
    }
   ],
   "source": [
    "set_list"
   ]
  },
  {
   "cell_type": "code",
   "execution_count": 15,
   "metadata": {
    "executionInfo": {
     "elapsed": 241,
     "status": "ok",
     "timestamp": 1705342554797,
     "user": {
      "displayName": "Sukhsimar Singh",
      "userId": "01602699437951890112"
     },
     "user_tz": 300
    },
    "id": "eDNOh_oFxHjP"
   },
   "outputs": [
    {
     "data": {
      "text/html": [
       "<div>\n",
       "<style scoped>\n",
       "    .dataframe tbody tr th:only-of-type {\n",
       "        vertical-align: middle;\n",
       "    }\n",
       "\n",
       "    .dataframe tbody tr th {\n",
       "        vertical-align: top;\n",
       "    }\n",
       "\n",
       "    .dataframe thead th {\n",
       "        text-align: right;\n",
       "    }\n",
       "</style>\n",
       "<table border=\"1\" class=\"dataframe\">\n",
       "  <thead>\n",
       "    <tr style=\"text-align: right;\">\n",
       "      <th></th>\n",
       "      <th>Set1</th>\n",
       "      <th>Set2</th>\n",
       "      <th>Set3</th>\n",
       "      <th>Set4</th>\n",
       "      <th>Set5</th>\n",
       "    </tr>\n",
       "  </thead>\n",
       "  <tbody>\n",
       "    <tr>\n",
       "      <th>0</th>\n",
       "      <td>4</td>\n",
       "      <td>4</td>\n",
       "      <td>4</td>\n",
       "      <td>4</td>\n",
       "      <td>3</td>\n",
       "    </tr>\n",
       "    <tr>\n",
       "      <th>1</th>\n",
       "      <td>5</td>\n",
       "      <td>4</td>\n",
       "      <td>4</td>\n",
       "      <td>4</td>\n",
       "      <td>3</td>\n",
       "    </tr>\n",
       "    <tr>\n",
       "      <th>2</th>\n",
       "      <td>2</td>\n",
       "      <td>3</td>\n",
       "      <td>3</td>\n",
       "      <td>4</td>\n",
       "      <td>3</td>\n",
       "    </tr>\n",
       "    <tr>\n",
       "      <th>3</th>\n",
       "      <td>4</td>\n",
       "      <td>4</td>\n",
       "      <td>5</td>\n",
       "      <td>4</td>\n",
       "      <td>4</td>\n",
       "    </tr>\n",
       "    <tr>\n",
       "      <th>4</th>\n",
       "      <td>5</td>\n",
       "      <td>4</td>\n",
       "      <td>3</td>\n",
       "      <td>4</td>\n",
       "      <td>4</td>\n",
       "    </tr>\n",
       "    <tr>\n",
       "      <th>...</th>\n",
       "      <td>...</td>\n",
       "      <td>...</td>\n",
       "      <td>...</td>\n",
       "      <td>...</td>\n",
       "      <td>...</td>\n",
       "    </tr>\n",
       "    <tr>\n",
       "      <th>59</th>\n",
       "      <td>6</td>\n",
       "      <td>5</td>\n",
       "      <td>5</td>\n",
       "      <td>4</td>\n",
       "      <td>3</td>\n",
       "    </tr>\n",
       "    <tr>\n",
       "      <th>60</th>\n",
       "      <td>6</td>\n",
       "      <td>6</td>\n",
       "      <td>5</td>\n",
       "      <td>5</td>\n",
       "      <td>4</td>\n",
       "    </tr>\n",
       "    <tr>\n",
       "      <th>61</th>\n",
       "      <td>6</td>\n",
       "      <td>5</td>\n",
       "      <td>4</td>\n",
       "      <td>4</td>\n",
       "      <td>4</td>\n",
       "    </tr>\n",
       "    <tr>\n",
       "      <th>62</th>\n",
       "      <td>6</td>\n",
       "      <td>6</td>\n",
       "      <td>5</td>\n",
       "      <td>4</td>\n",
       "      <td>5</td>\n",
       "    </tr>\n",
       "    <tr>\n",
       "      <th>63</th>\n",
       "      <td>4</td>\n",
       "      <td>4</td>\n",
       "      <td>4</td>\n",
       "      <td>4</td>\n",
       "      <td>4</td>\n",
       "    </tr>\n",
       "  </tbody>\n",
       "</table>\n",
       "<p>64 rows × 5 columns</p>\n",
       "</div>"
      ],
      "text/plain": [
       "   Set1 Set2 Set3 Set4 Set5\n",
       "0     4    4    4    4    3\n",
       "1     5    4    4    4    3\n",
       "2     2    3    3    4    3\n",
       "3     4    4    5    4    4\n",
       "4     5    4    3    4    4\n",
       "..  ...  ...  ...  ...  ...\n",
       "59    6    5    5    4    3\n",
       "60    6    6    5    5    4\n",
       "61    6    5    4    4    4\n",
       "62    6    6    5    4    5\n",
       "63    4    4    4    4    4\n",
       "\n",
       "[64 rows x 5 columns]"
      ]
     },
     "execution_count": 15,
     "metadata": {},
     "output_type": "execute_result"
    }
   ],
   "source": [
    "df_sets = pd.DataFrame(set_list, columns = ['Set1' , 'Set2', 'Set3' , 'Set4', 'Set5'])\n",
    "df_sets"
   ]
  },
  {
   "cell_type": "code",
   "execution_count": 16,
   "metadata": {
    "executionInfo": {
     "elapsed": 14,
     "status": "ok",
     "timestamp": 1705342554798,
     "user": {
      "displayName": "Sukhsimar Singh",
      "userId": "01602699437951890112"
     },
     "user_tz": 300
    },
    "id": "4mJPBHdpBXO3"
   },
   "outputs": [],
   "source": [
    "df_sets['Set1'] = df_sets['Set1'].astype(int)\n",
    "df_sets['Set2'] = df_sets['Set2'].astype(int)\n",
    "df_sets['Set3'] = df_sets['Set3'].astype(int)\n",
    "df_sets['Set4'] = df_sets['Set4'].astype(int)\n",
    "df_sets['Set5'] = df_sets['Set5'].astype(int)"
   ]
  },
  {
   "cell_type": "code",
   "execution_count": 17,
   "metadata": {
    "executionInfo": {
     "elapsed": 11,
     "status": "ok",
     "timestamp": 1705342554798,
     "user": {
      "displayName": "Sukhsimar Singh",
      "userId": "01602699437951890112"
     },
     "user_tz": 300
    },
    "id": "sCgFd37iyEnh"
   },
   "outputs": [
    {
     "data": {
      "text/html": [
       "<div>\n",
       "<style scoped>\n",
       "    .dataframe tbody tr th:only-of-type {\n",
       "        vertical-align: middle;\n",
       "    }\n",
       "\n",
       "    .dataframe tbody tr th {\n",
       "        vertical-align: top;\n",
       "    }\n",
       "\n",
       "    .dataframe thead th {\n",
       "        text-align: right;\n",
       "    }\n",
       "</style>\n",
       "<table border=\"1\" class=\"dataframe\">\n",
       "  <thead>\n",
       "    <tr style=\"text-align: right;\">\n",
       "      <th></th>\n",
       "      <th>Date</th>\n",
       "      <th>Set1</th>\n",
       "      <th>Set2</th>\n",
       "      <th>Set3</th>\n",
       "      <th>Set4</th>\n",
       "      <th>Set5</th>\n",
       "    </tr>\n",
       "  </thead>\n",
       "  <tbody>\n",
       "    <tr>\n",
       "      <th>0</th>\n",
       "      <td>17.04.2023</td>\n",
       "      <td>4</td>\n",
       "      <td>4</td>\n",
       "      <td>4</td>\n",
       "      <td>4</td>\n",
       "      <td>3</td>\n",
       "    </tr>\n",
       "    <tr>\n",
       "      <th>1</th>\n",
       "      <td>20.04.2023</td>\n",
       "      <td>5</td>\n",
       "      <td>4</td>\n",
       "      <td>4</td>\n",
       "      <td>4</td>\n",
       "      <td>3</td>\n",
       "    </tr>\n",
       "    <tr>\n",
       "      <th>2</th>\n",
       "      <td>24.04.2023</td>\n",
       "      <td>2</td>\n",
       "      <td>3</td>\n",
       "      <td>3</td>\n",
       "      <td>4</td>\n",
       "      <td>3</td>\n",
       "    </tr>\n",
       "    <tr>\n",
       "      <th>3</th>\n",
       "      <td>26.04.2023</td>\n",
       "      <td>4</td>\n",
       "      <td>4</td>\n",
       "      <td>5</td>\n",
       "      <td>4</td>\n",
       "      <td>4</td>\n",
       "    </tr>\n",
       "    <tr>\n",
       "      <th>4</th>\n",
       "      <td>1.05.2023</td>\n",
       "      <td>5</td>\n",
       "      <td>4</td>\n",
       "      <td>3</td>\n",
       "      <td>4</td>\n",
       "      <td>4</td>\n",
       "    </tr>\n",
       "    <tr>\n",
       "      <th>...</th>\n",
       "      <td>...</td>\n",
       "      <td>...</td>\n",
       "      <td>...</td>\n",
       "      <td>...</td>\n",
       "      <td>...</td>\n",
       "      <td>...</td>\n",
       "    </tr>\n",
       "    <tr>\n",
       "      <th>59</th>\n",
       "      <td>8.12.2024</td>\n",
       "      <td>6</td>\n",
       "      <td>5</td>\n",
       "      <td>5</td>\n",
       "      <td>4</td>\n",
       "      <td>3</td>\n",
       "    </tr>\n",
       "    <tr>\n",
       "      <th>60</th>\n",
       "      <td>9.03.2025</td>\n",
       "      <td>6</td>\n",
       "      <td>6</td>\n",
       "      <td>5</td>\n",
       "      <td>5</td>\n",
       "      <td>4</td>\n",
       "    </tr>\n",
       "    <tr>\n",
       "      <th>61</th>\n",
       "      <td>21.03.2025</td>\n",
       "      <td>6</td>\n",
       "      <td>5</td>\n",
       "      <td>4</td>\n",
       "      <td>4</td>\n",
       "      <td>4</td>\n",
       "    </tr>\n",
       "    <tr>\n",
       "      <th>62</th>\n",
       "      <td>25.03.2025</td>\n",
       "      <td>6</td>\n",
       "      <td>6</td>\n",
       "      <td>5</td>\n",
       "      <td>4</td>\n",
       "      <td>5</td>\n",
       "    </tr>\n",
       "    <tr>\n",
       "      <th>63</th>\n",
       "      <td>27.04.2025</td>\n",
       "      <td>4</td>\n",
       "      <td>4</td>\n",
       "      <td>4</td>\n",
       "      <td>4</td>\n",
       "      <td>4</td>\n",
       "    </tr>\n",
       "  </tbody>\n",
       "</table>\n",
       "<p>64 rows × 6 columns</p>\n",
       "</div>"
      ],
      "text/plain": [
       "          Date  Set1  Set2  Set3  Set4  Set5\n",
       "0   17.04.2023     4     4     4     4     3\n",
       "1   20.04.2023     5     4     4     4     3\n",
       "2   24.04.2023     2     3     3     4     3\n",
       "3   26.04.2023     4     4     5     4     4\n",
       "4    1.05.2023     5     4     3     4     4\n",
       "..         ...   ...   ...   ...   ...   ...\n",
       "59   8.12.2024     6     5     5     4     3\n",
       "60   9.03.2025     6     6     5     5     4\n",
       "61  21.03.2025     6     5     4     4     4\n",
       "62  25.03.2025     6     6     5     4     5\n",
       "63  27.04.2025     4     4     4     4     4\n",
       "\n",
       "[64 rows x 6 columns]"
      ]
     },
     "execution_count": 17,
     "metadata": {},
     "output_type": "execute_result"
    }
   ],
   "source": [
    "result = pd.concat([df, df_sets], axis=1, join=\"outer\")\n",
    "result.drop('Sets',axis='columns', inplace=True)\n",
    "result"
   ]
  },
  {
   "cell_type": "code",
   "execution_count": 18,
   "metadata": {
    "executionInfo": {
     "elapsed": 12,
     "status": "ok",
     "timestamp": 1705342554950,
     "user": {
      "displayName": "Sukhsimar Singh",
      "userId": "01602699437951890112"
     },
     "user_tz": 300
    },
    "id": "apqQYFwPzsLn"
   },
   "outputs": [],
   "source": [
    "date_list = []\n",
    "for i in cleaned_list:\n",
    "  date = i[0]\n",
    "  new_date = date.replace('.','/')\n",
    "  date_list.append(new_date)"
   ]
  },
  {
   "cell_type": "code",
   "execution_count": 19,
   "metadata": {
    "colab": {
     "base_uri": "https://localhost:8080/"
    },
    "executionInfo": {
     "elapsed": 11,
     "status": "ok",
     "timestamp": 1705342554950,
     "user": {
      "displayName": "Sukhsimar Singh",
      "userId": "01602699437951890112"
     },
     "user_tz": 300
    },
    "id": "bepS6BaI04W0",
    "outputId": "356f42c0-2ac5-4dcb-df5c-089f1dc57e9e"
   },
   "outputs": [
    {
     "data": {
      "text/plain": [
       "['17/04/2023',\n",
       " '20/04/2023',\n",
       " '24/04/2023',\n",
       " '26/04/2023',\n",
       " '1/05/2023',\n",
       " '4/05/2023',\n",
       " '10/05/2023',\n",
       " '16/05/2023',\n",
       " '25/05/2023',\n",
       " '31/05/2023',\n",
       " '1/07/2023',\n",
       " '5/07/2023',\n",
       " '9/07/2023',\n",
       " '12/07/2023',\n",
       " '15/07/2023',\n",
       " '18/07/2023',\n",
       " '21/07/2023',\n",
       " '26/07/2023',\n",
       " '29/07/2023',\n",
       " '2/08/2023',\n",
       " '7/08/2023',\n",
       " '11/08/2023',\n",
       " '15/08/2023',\n",
       " '19/08/2023',\n",
       " '23/08/2023',\n",
       " '27/08/2023',\n",
       " '6/09/2023',\n",
       " '10/09/2023',\n",
       " '14/09/2023',\n",
       " '17/09/2023',\n",
       " '27/09/2023',\n",
       " '10/10/2023',\n",
       " '15/10/2023',\n",
       " '23/10/2023',\n",
       " '30/10/2023',\n",
       " '6/11/2023',\n",
       " '15/11/2023',\n",
       " '28/11/2023',\n",
       " '4/12/2023',\n",
       " '19/12/2023',\n",
       " '28/12/2023',\n",
       " '8/01/2024',\n",
       " '15/01/2024',\n",
       " '21/01/2024',\n",
       " '26/01/2024',\n",
       " '29/01/2024',\n",
       " '5/02/2024',\n",
       " '20/02/2024',\n",
       " '24/02/2024',\n",
       " '17/03/2024',\n",
       " '26/03/2024',\n",
       " '2/04/2024',\n",
       " '8/04/2024',\n",
       " '10/04/2024',\n",
       " '17/04/2024',\n",
       " '10/08/2024',\n",
       " '22/08/2024',\n",
       " '28/08/2024',\n",
       " '5/10/2024',\n",
       " '8/12/2024',\n",
       " '9/03/2025',\n",
       " '21/03/2025',\n",
       " '25/03/2025',\n",
       " '27/04/2025']"
      ]
     },
     "execution_count": 19,
     "metadata": {},
     "output_type": "execute_result"
    }
   ],
   "source": [
    "date_list"
   ]
  },
  {
   "cell_type": "code",
   "execution_count": 20,
   "metadata": {
    "executionInfo": {
     "elapsed": 11,
     "status": "ok",
     "timestamp": 1705342554950,
     "user": {
      "displayName": "Sukhsimar Singh",
      "userId": "01602699437951890112"
     },
     "user_tz": 300
    },
    "id": "t9gBqOcI1XQY"
   },
   "outputs": [],
   "source": [
    "date_df = pd.DataFrame(date_list, columns = ['New_Dates'])\n",
    "final_df = pd.concat([date_df, result], axis=1, join=\"outer\")\n",
    "final_df.drop('Date',axis='columns', inplace=True)"
   ]
  },
  {
   "cell_type": "code",
   "execution_count": 21,
   "metadata": {
    "colab": {
     "base_uri": "https://localhost:8080/",
     "height": 0
    },
    "executionInfo": {
     "elapsed": 11,
     "status": "ok",
     "timestamp": 1705342554950,
     "user": {
      "displayName": "Sukhsimar Singh",
      "userId": "01602699437951890112"
     },
     "user_tz": 300
    },
    "id": "koimSXk51q6i",
    "outputId": "aee9d8e4-61ab-486a-e63a-324751f70e7d"
   },
   "outputs": [
    {
     "data": {
      "text/html": [
       "<div>\n",
       "<style scoped>\n",
       "    .dataframe tbody tr th:only-of-type {\n",
       "        vertical-align: middle;\n",
       "    }\n",
       "\n",
       "    .dataframe tbody tr th {\n",
       "        vertical-align: top;\n",
       "    }\n",
       "\n",
       "    .dataframe thead th {\n",
       "        text-align: right;\n",
       "    }\n",
       "</style>\n",
       "<table border=\"1\" class=\"dataframe\">\n",
       "  <thead>\n",
       "    <tr style=\"text-align: right;\">\n",
       "      <th></th>\n",
       "      <th>New_Dates</th>\n",
       "      <th>Set1</th>\n",
       "      <th>Set2</th>\n",
       "      <th>Set3</th>\n",
       "      <th>Set4</th>\n",
       "      <th>Set5</th>\n",
       "    </tr>\n",
       "  </thead>\n",
       "  <tbody>\n",
       "    <tr>\n",
       "      <th>0</th>\n",
       "      <td>17/04/2023</td>\n",
       "      <td>4</td>\n",
       "      <td>4</td>\n",
       "      <td>4</td>\n",
       "      <td>4</td>\n",
       "      <td>3</td>\n",
       "    </tr>\n",
       "    <tr>\n",
       "      <th>1</th>\n",
       "      <td>20/04/2023</td>\n",
       "      <td>5</td>\n",
       "      <td>4</td>\n",
       "      <td>4</td>\n",
       "      <td>4</td>\n",
       "      <td>3</td>\n",
       "    </tr>\n",
       "    <tr>\n",
       "      <th>2</th>\n",
       "      <td>24/04/2023</td>\n",
       "      <td>2</td>\n",
       "      <td>3</td>\n",
       "      <td>3</td>\n",
       "      <td>4</td>\n",
       "      <td>3</td>\n",
       "    </tr>\n",
       "    <tr>\n",
       "      <th>3</th>\n",
       "      <td>26/04/2023</td>\n",
       "      <td>4</td>\n",
       "      <td>4</td>\n",
       "      <td>5</td>\n",
       "      <td>4</td>\n",
       "      <td>4</td>\n",
       "    </tr>\n",
       "    <tr>\n",
       "      <th>4</th>\n",
       "      <td>1/05/2023</td>\n",
       "      <td>5</td>\n",
       "      <td>4</td>\n",
       "      <td>3</td>\n",
       "      <td>4</td>\n",
       "      <td>4</td>\n",
       "    </tr>\n",
       "    <tr>\n",
       "      <th>...</th>\n",
       "      <td>...</td>\n",
       "      <td>...</td>\n",
       "      <td>...</td>\n",
       "      <td>...</td>\n",
       "      <td>...</td>\n",
       "      <td>...</td>\n",
       "    </tr>\n",
       "    <tr>\n",
       "      <th>59</th>\n",
       "      <td>8/12/2024</td>\n",
       "      <td>6</td>\n",
       "      <td>5</td>\n",
       "      <td>5</td>\n",
       "      <td>4</td>\n",
       "      <td>3</td>\n",
       "    </tr>\n",
       "    <tr>\n",
       "      <th>60</th>\n",
       "      <td>9/03/2025</td>\n",
       "      <td>6</td>\n",
       "      <td>6</td>\n",
       "      <td>5</td>\n",
       "      <td>5</td>\n",
       "      <td>4</td>\n",
       "    </tr>\n",
       "    <tr>\n",
       "      <th>61</th>\n",
       "      <td>21/03/2025</td>\n",
       "      <td>6</td>\n",
       "      <td>5</td>\n",
       "      <td>4</td>\n",
       "      <td>4</td>\n",
       "      <td>4</td>\n",
       "    </tr>\n",
       "    <tr>\n",
       "      <th>62</th>\n",
       "      <td>25/03/2025</td>\n",
       "      <td>6</td>\n",
       "      <td>6</td>\n",
       "      <td>5</td>\n",
       "      <td>4</td>\n",
       "      <td>5</td>\n",
       "    </tr>\n",
       "    <tr>\n",
       "      <th>63</th>\n",
       "      <td>27/04/2025</td>\n",
       "      <td>4</td>\n",
       "      <td>4</td>\n",
       "      <td>4</td>\n",
       "      <td>4</td>\n",
       "      <td>4</td>\n",
       "    </tr>\n",
       "  </tbody>\n",
       "</table>\n",
       "<p>64 rows × 6 columns</p>\n",
       "</div>"
      ],
      "text/plain": [
       "     New_Dates  Set1  Set2  Set3  Set4  Set5\n",
       "0   17/04/2023     4     4     4     4     3\n",
       "1   20/04/2023     5     4     4     4     3\n",
       "2   24/04/2023     2     3     3     4     3\n",
       "3   26/04/2023     4     4     5     4     4\n",
       "4    1/05/2023     5     4     3     4     4\n",
       "..         ...   ...   ...   ...   ...   ...\n",
       "59   8/12/2024     6     5     5     4     3\n",
       "60   9/03/2025     6     6     5     5     4\n",
       "61  21/03/2025     6     5     4     4     4\n",
       "62  25/03/2025     6     6     5     4     5\n",
       "63  27/04/2025     4     4     4     4     4\n",
       "\n",
       "[64 rows x 6 columns]"
      ]
     },
     "execution_count": 21,
     "metadata": {},
     "output_type": "execute_result"
    }
   ],
   "source": [
    "final_df"
   ]
  },
  {
   "cell_type": "markdown",
   "metadata": {
    "id": "2FVzA9LQTrqB"
   },
   "source": [
    "# Final Dataframe"
   ]
  },
  {
   "cell_type": "code",
   "execution_count": 22,
   "metadata": {
    "colab": {
     "base_uri": "https://localhost:8080/",
     "height": 1000
    },
    "executionInfo": {
     "elapsed": 239,
     "status": "ok",
     "timestamp": 1705342558385,
     "user": {
      "displayName": "Sukhsimar Singh",
      "userId": "01602699437951890112"
     },
     "user_tz": 300
    },
    "id": "lo4nfe5c18sH",
    "outputId": "faa78f46-e8b4-4b72-f0d0-e390948dd40f"
   },
   "outputs": [
    {
     "data": {
      "text/html": [
       "<div>\n",
       "<style scoped>\n",
       "    .dataframe tbody tr th:only-of-type {\n",
       "        vertical-align: middle;\n",
       "    }\n",
       "\n",
       "    .dataframe tbody tr th {\n",
       "        vertical-align: top;\n",
       "    }\n",
       "\n",
       "    .dataframe thead th {\n",
       "        text-align: right;\n",
       "    }\n",
       "</style>\n",
       "<table border=\"1\" class=\"dataframe\">\n",
       "  <thead>\n",
       "    <tr style=\"text-align: right;\">\n",
       "      <th></th>\n",
       "      <th>New_Dates</th>\n",
       "      <th>Set1</th>\n",
       "      <th>Set2</th>\n",
       "      <th>Set3</th>\n",
       "      <th>Set4</th>\n",
       "      <th>Set5</th>\n",
       "    </tr>\n",
       "  </thead>\n",
       "  <tbody>\n",
       "    <tr>\n",
       "      <th>0</th>\n",
       "      <td>17/04/2023</td>\n",
       "      <td>4</td>\n",
       "      <td>4</td>\n",
       "      <td>4</td>\n",
       "      <td>4</td>\n",
       "      <td>3</td>\n",
       "    </tr>\n",
       "    <tr>\n",
       "      <th>1</th>\n",
       "      <td>20/04/2023</td>\n",
       "      <td>5</td>\n",
       "      <td>4</td>\n",
       "      <td>4</td>\n",
       "      <td>4</td>\n",
       "      <td>3</td>\n",
       "    </tr>\n",
       "    <tr>\n",
       "      <th>2</th>\n",
       "      <td>24/04/2023</td>\n",
       "      <td>2</td>\n",
       "      <td>3</td>\n",
       "      <td>3</td>\n",
       "      <td>4</td>\n",
       "      <td>3</td>\n",
       "    </tr>\n",
       "    <tr>\n",
       "      <th>3</th>\n",
       "      <td>26/04/2023</td>\n",
       "      <td>4</td>\n",
       "      <td>4</td>\n",
       "      <td>5</td>\n",
       "      <td>4</td>\n",
       "      <td>4</td>\n",
       "    </tr>\n",
       "    <tr>\n",
       "      <th>4</th>\n",
       "      <td>1/05/2023</td>\n",
       "      <td>5</td>\n",
       "      <td>4</td>\n",
       "      <td>3</td>\n",
       "      <td>4</td>\n",
       "      <td>4</td>\n",
       "    </tr>\n",
       "    <tr>\n",
       "      <th>...</th>\n",
       "      <td>...</td>\n",
       "      <td>...</td>\n",
       "      <td>...</td>\n",
       "      <td>...</td>\n",
       "      <td>...</td>\n",
       "      <td>...</td>\n",
       "    </tr>\n",
       "    <tr>\n",
       "      <th>59</th>\n",
       "      <td>8/12/2024</td>\n",
       "      <td>6</td>\n",
       "      <td>5</td>\n",
       "      <td>5</td>\n",
       "      <td>4</td>\n",
       "      <td>3</td>\n",
       "    </tr>\n",
       "    <tr>\n",
       "      <th>60</th>\n",
       "      <td>9/03/2025</td>\n",
       "      <td>6</td>\n",
       "      <td>6</td>\n",
       "      <td>5</td>\n",
       "      <td>5</td>\n",
       "      <td>4</td>\n",
       "    </tr>\n",
       "    <tr>\n",
       "      <th>61</th>\n",
       "      <td>21/03/2025</td>\n",
       "      <td>6</td>\n",
       "      <td>5</td>\n",
       "      <td>4</td>\n",
       "      <td>4</td>\n",
       "      <td>4</td>\n",
       "    </tr>\n",
       "    <tr>\n",
       "      <th>62</th>\n",
       "      <td>25/03/2025</td>\n",
       "      <td>6</td>\n",
       "      <td>6</td>\n",
       "      <td>5</td>\n",
       "      <td>4</td>\n",
       "      <td>5</td>\n",
       "    </tr>\n",
       "    <tr>\n",
       "      <th>63</th>\n",
       "      <td>27/04/2025</td>\n",
       "      <td>4</td>\n",
       "      <td>4</td>\n",
       "      <td>4</td>\n",
       "      <td>4</td>\n",
       "      <td>4</td>\n",
       "    </tr>\n",
       "  </tbody>\n",
       "</table>\n",
       "<p>64 rows × 6 columns</p>\n",
       "</div>"
      ],
      "text/plain": [
       "     New_Dates  Set1  Set2  Set3  Set4  Set5\n",
       "0   17/04/2023     4     4     4     4     3\n",
       "1   20/04/2023     5     4     4     4     3\n",
       "2   24/04/2023     2     3     3     4     3\n",
       "3   26/04/2023     4     4     5     4     4\n",
       "4    1/05/2023     5     4     3     4     4\n",
       "..         ...   ...   ...   ...   ...   ...\n",
       "59   8/12/2024     6     5     5     4     3\n",
       "60   9/03/2025     6     6     5     5     4\n",
       "61  21/03/2025     6     5     4     4     4\n",
       "62  25/03/2025     6     6     5     4     5\n",
       "63  27/04/2025     4     4     4     4     4\n",
       "\n",
       "[64 rows x 6 columns]"
      ]
     },
     "execution_count": 22,
     "metadata": {},
     "output_type": "execute_result"
    }
   ],
   "source": [
    "final_df"
   ]
  },
  {
   "cell_type": "code",
   "execution_count": 23,
   "metadata": {
    "executionInfo": {
     "elapsed": 169,
     "status": "ok",
     "timestamp": 1705342558551,
     "user": {
      "displayName": "Sukhsimar Singh",
      "userId": "01602699437951890112"
     },
     "user_tz": 300
    },
    "id": "hQwQKmOy3OCl"
   },
   "outputs": [
    {
     "data": {
      "text/html": [
       "<div>\n",
       "<style scoped>\n",
       "    .dataframe tbody tr th:only-of-type {\n",
       "        vertical-align: middle;\n",
       "    }\n",
       "\n",
       "    .dataframe tbody tr th {\n",
       "        vertical-align: top;\n",
       "    }\n",
       "\n",
       "    .dataframe thead th {\n",
       "        text-align: right;\n",
       "    }\n",
       "</style>\n",
       "<table border=\"1\" class=\"dataframe\">\n",
       "  <thead>\n",
       "    <tr style=\"text-align: right;\">\n",
       "      <th></th>\n",
       "      <th>New_Dates</th>\n",
       "      <th>Set1</th>\n",
       "      <th>Set2</th>\n",
       "      <th>Set3</th>\n",
       "      <th>Set4</th>\n",
       "      <th>Set5</th>\n",
       "    </tr>\n",
       "  </thead>\n",
       "  <tbody>\n",
       "    <tr>\n",
       "      <th>0</th>\n",
       "      <td>2023-04-17</td>\n",
       "      <td>4</td>\n",
       "      <td>4</td>\n",
       "      <td>4</td>\n",
       "      <td>4</td>\n",
       "      <td>3</td>\n",
       "    </tr>\n",
       "    <tr>\n",
       "      <th>1</th>\n",
       "      <td>2023-04-20</td>\n",
       "      <td>5</td>\n",
       "      <td>4</td>\n",
       "      <td>4</td>\n",
       "      <td>4</td>\n",
       "      <td>3</td>\n",
       "    </tr>\n",
       "    <tr>\n",
       "      <th>2</th>\n",
       "      <td>2023-04-24</td>\n",
       "      <td>2</td>\n",
       "      <td>3</td>\n",
       "      <td>3</td>\n",
       "      <td>4</td>\n",
       "      <td>3</td>\n",
       "    </tr>\n",
       "    <tr>\n",
       "      <th>3</th>\n",
       "      <td>2023-04-26</td>\n",
       "      <td>4</td>\n",
       "      <td>4</td>\n",
       "      <td>5</td>\n",
       "      <td>4</td>\n",
       "      <td>4</td>\n",
       "    </tr>\n",
       "    <tr>\n",
       "      <th>4</th>\n",
       "      <td>2023-05-01</td>\n",
       "      <td>5</td>\n",
       "      <td>4</td>\n",
       "      <td>3</td>\n",
       "      <td>4</td>\n",
       "      <td>4</td>\n",
       "    </tr>\n",
       "    <tr>\n",
       "      <th>...</th>\n",
       "      <td>...</td>\n",
       "      <td>...</td>\n",
       "      <td>...</td>\n",
       "      <td>...</td>\n",
       "      <td>...</td>\n",
       "      <td>...</td>\n",
       "    </tr>\n",
       "    <tr>\n",
       "      <th>59</th>\n",
       "      <td>2024-12-08</td>\n",
       "      <td>6</td>\n",
       "      <td>5</td>\n",
       "      <td>5</td>\n",
       "      <td>4</td>\n",
       "      <td>3</td>\n",
       "    </tr>\n",
       "    <tr>\n",
       "      <th>60</th>\n",
       "      <td>2025-03-09</td>\n",
       "      <td>6</td>\n",
       "      <td>6</td>\n",
       "      <td>5</td>\n",
       "      <td>5</td>\n",
       "      <td>4</td>\n",
       "    </tr>\n",
       "    <tr>\n",
       "      <th>61</th>\n",
       "      <td>2025-03-21</td>\n",
       "      <td>6</td>\n",
       "      <td>5</td>\n",
       "      <td>4</td>\n",
       "      <td>4</td>\n",
       "      <td>4</td>\n",
       "    </tr>\n",
       "    <tr>\n",
       "      <th>62</th>\n",
       "      <td>2025-03-25</td>\n",
       "      <td>6</td>\n",
       "      <td>6</td>\n",
       "      <td>5</td>\n",
       "      <td>4</td>\n",
       "      <td>5</td>\n",
       "    </tr>\n",
       "    <tr>\n",
       "      <th>63</th>\n",
       "      <td>2025-04-27</td>\n",
       "      <td>4</td>\n",
       "      <td>4</td>\n",
       "      <td>4</td>\n",
       "      <td>4</td>\n",
       "      <td>4</td>\n",
       "    </tr>\n",
       "  </tbody>\n",
       "</table>\n",
       "<p>64 rows × 6 columns</p>\n",
       "</div>"
      ],
      "text/plain": [
       "    New_Dates  Set1  Set2  Set3  Set4  Set5\n",
       "0  2023-04-17     4     4     4     4     3\n",
       "1  2023-04-20     5     4     4     4     3\n",
       "2  2023-04-24     2     3     3     4     3\n",
       "3  2023-04-26     4     4     5     4     4\n",
       "4  2023-05-01     5     4     3     4     4\n",
       "..        ...   ...   ...   ...   ...   ...\n",
       "59 2024-12-08     6     5     5     4     3\n",
       "60 2025-03-09     6     6     5     5     4\n",
       "61 2025-03-21     6     5     4     4     4\n",
       "62 2025-03-25     6     6     5     4     5\n",
       "63 2025-04-27     4     4     4     4     4\n",
       "\n",
       "[64 rows x 6 columns]"
      ]
     },
     "execution_count": 23,
     "metadata": {},
     "output_type": "execute_result"
    }
   ],
   "source": [
    "final_df['New_Dates'] = pd.to_datetime(final_df['New_Dates'],format='%d/%m/%Y')\n",
    "final_df"
   ]
  },
  {
   "cell_type": "code",
   "execution_count": 24,
   "metadata": {
    "executionInfo": {
     "elapsed": 6,
     "status": "ok",
     "timestamp": 1705342558552,
     "user": {
      "displayName": "Sukhsimar Singh",
      "userId": "01602699437951890112"
     },
     "user_tz": 300
    },
    "id": "7LUIMdcD_O2P"
   },
   "outputs": [],
   "source": [
    "final_df['Set1'] = final_df['Set1'].astype(int)\n",
    "final_df['Set2'] = final_df['Set2'].astype(int)\n",
    "final_df['Set3'] = final_df['Set3'].astype(int)\n",
    "final_df['Set4'] = final_df['Set4'].astype(int)\n",
    "final_df['Set5'] = final_df['Set5'].astype(int)"
   ]
  },
  {
   "cell_type": "markdown",
   "metadata": {
    "id": "u4mv43OFT1BT"
   },
   "source": [
    "# Plots"
   ]
  },
  {
   "cell_type": "code",
   "execution_count": 26,
   "metadata": {
    "colab": {
     "base_uri": "https://localhost:8080/",
     "height": 542
    },
    "executionInfo": {
     "elapsed": 2664,
     "status": "ok",
     "timestamp": 1705342572102,
     "user": {
      "displayName": "Sukhsimar Singh",
      "userId": "01602699437951890112"
     },
     "user_tz": 300
    },
    "id": "83zIxzsy_66v",
    "outputId": "2e7517c4-2ad6-4740-dc37-9f54556c5de5"
   },
   "outputs": [
    {
     "data": {
      "application/vnd.plotly.v1+json": {
       "config": {
        "plotlyServerURL": "https://plot.ly"
       },
       "data": [
        {
         "hovertemplate": "New_Dates=%{x}<br>Set1=%{y}<extra></extra>",
         "legendgroup": "",
         "line": {
          "color": "#636efa",
          "dash": "solid"
         },
         "marker": {
          "symbol": "circle"
         },
         "mode": "lines",
         "name": "",
         "orientation": "v",
         "showlegend": false,
         "type": "scatter",
         "x": [
          "2023-04-17T00:00:00.000000000",
          "2023-04-20T00:00:00.000000000",
          "2023-04-24T00:00:00.000000000",
          "2023-04-26T00:00:00.000000000",
          "2023-05-01T00:00:00.000000000",
          "2023-05-04T00:00:00.000000000",
          "2023-05-10T00:00:00.000000000",
          "2023-05-16T00:00:00.000000000",
          "2023-05-25T00:00:00.000000000",
          "2023-05-31T00:00:00.000000000",
          "2023-07-01T00:00:00.000000000",
          "2023-07-05T00:00:00.000000000",
          "2023-07-09T00:00:00.000000000",
          "2023-07-12T00:00:00.000000000",
          "2023-07-15T00:00:00.000000000",
          "2023-07-18T00:00:00.000000000",
          "2023-07-21T00:00:00.000000000",
          "2023-07-26T00:00:00.000000000",
          "2023-07-29T00:00:00.000000000",
          "2023-08-02T00:00:00.000000000",
          "2023-08-07T00:00:00.000000000",
          "2023-08-11T00:00:00.000000000",
          "2023-08-15T00:00:00.000000000",
          "2023-08-19T00:00:00.000000000",
          "2023-08-23T00:00:00.000000000",
          "2023-08-27T00:00:00.000000000",
          "2023-09-06T00:00:00.000000000",
          "2023-09-10T00:00:00.000000000",
          "2023-09-14T00:00:00.000000000",
          "2023-09-17T00:00:00.000000000",
          "2023-09-27T00:00:00.000000000",
          "2023-10-10T00:00:00.000000000",
          "2023-10-15T00:00:00.000000000",
          "2023-10-23T00:00:00.000000000",
          "2023-10-30T00:00:00.000000000",
          "2023-11-06T00:00:00.000000000",
          "2023-11-15T00:00:00.000000000",
          "2023-11-28T00:00:00.000000000",
          "2023-12-04T00:00:00.000000000",
          "2023-12-19T00:00:00.000000000",
          "2023-12-28T00:00:00.000000000",
          "2024-01-08T00:00:00.000000000",
          "2024-01-15T00:00:00.000000000",
          "2024-01-21T00:00:00.000000000",
          "2024-01-26T00:00:00.000000000",
          "2024-01-29T00:00:00.000000000",
          "2024-02-05T00:00:00.000000000",
          "2024-02-20T00:00:00.000000000",
          "2024-02-24T00:00:00.000000000",
          "2024-03-17T00:00:00.000000000",
          "2024-03-26T00:00:00.000000000",
          "2024-04-02T00:00:00.000000000",
          "2024-04-08T00:00:00.000000000",
          "2024-04-10T00:00:00.000000000",
          "2024-04-17T00:00:00.000000000",
          "2024-08-10T00:00:00.000000000",
          "2024-08-22T00:00:00.000000000",
          "2024-08-28T00:00:00.000000000",
          "2024-10-05T00:00:00.000000000",
          "2024-12-08T00:00:00.000000000",
          "2025-03-09T00:00:00.000000000",
          "2025-03-21T00:00:00.000000000",
          "2025-03-25T00:00:00.000000000",
          "2025-04-27T00:00:00.000000000"
         ],
         "xaxis": "x",
         "y": {
          "bdata": "BAUCBAUGBgYHBwYGBgYDBgYHBgcGBwcICAcHCgkHCQgHCAoJCggKCQsKCwoLCwoMCgoKCgoICgQGBQUGBgYGBA==",
          "dtype": "i1"
         },
         "yaxis": "y"
        }
       ],
       "layout": {
        "legend": {
         "tracegroupgap": 0
        },
        "template": {
         "data": {
          "bar": [
           {
            "error_x": {
             "color": "#2a3f5f"
            },
            "error_y": {
             "color": "#2a3f5f"
            },
            "marker": {
             "line": {
              "color": "#E5ECF6",
              "width": 0.5
             },
             "pattern": {
              "fillmode": "overlay",
              "size": 10,
              "solidity": 0.2
             }
            },
            "type": "bar"
           }
          ],
          "barpolar": [
           {
            "marker": {
             "line": {
              "color": "#E5ECF6",
              "width": 0.5
             },
             "pattern": {
              "fillmode": "overlay",
              "size": 10,
              "solidity": 0.2
             }
            },
            "type": "barpolar"
           }
          ],
          "carpet": [
           {
            "aaxis": {
             "endlinecolor": "#2a3f5f",
             "gridcolor": "white",
             "linecolor": "white",
             "minorgridcolor": "white",
             "startlinecolor": "#2a3f5f"
            },
            "baxis": {
             "endlinecolor": "#2a3f5f",
             "gridcolor": "white",
             "linecolor": "white",
             "minorgridcolor": "white",
             "startlinecolor": "#2a3f5f"
            },
            "type": "carpet"
           }
          ],
          "choropleth": [
           {
            "colorbar": {
             "outlinewidth": 0,
             "ticks": ""
            },
            "type": "choropleth"
           }
          ],
          "contour": [
           {
            "colorbar": {
             "outlinewidth": 0,
             "ticks": ""
            },
            "colorscale": [
             [
              0,
              "#0d0887"
             ],
             [
              0.1111111111111111,
              "#46039f"
             ],
             [
              0.2222222222222222,
              "#7201a8"
             ],
             [
              0.3333333333333333,
              "#9c179e"
             ],
             [
              0.4444444444444444,
              "#bd3786"
             ],
             [
              0.5555555555555556,
              "#d8576b"
             ],
             [
              0.6666666666666666,
              "#ed7953"
             ],
             [
              0.7777777777777778,
              "#fb9f3a"
             ],
             [
              0.8888888888888888,
              "#fdca26"
             ],
             [
              1,
              "#f0f921"
             ]
            ],
            "type": "contour"
           }
          ],
          "contourcarpet": [
           {
            "colorbar": {
             "outlinewidth": 0,
             "ticks": ""
            },
            "type": "contourcarpet"
           }
          ],
          "heatmap": [
           {
            "colorbar": {
             "outlinewidth": 0,
             "ticks": ""
            },
            "colorscale": [
             [
              0,
              "#0d0887"
             ],
             [
              0.1111111111111111,
              "#46039f"
             ],
             [
              0.2222222222222222,
              "#7201a8"
             ],
             [
              0.3333333333333333,
              "#9c179e"
             ],
             [
              0.4444444444444444,
              "#bd3786"
             ],
             [
              0.5555555555555556,
              "#d8576b"
             ],
             [
              0.6666666666666666,
              "#ed7953"
             ],
             [
              0.7777777777777778,
              "#fb9f3a"
             ],
             [
              0.8888888888888888,
              "#fdca26"
             ],
             [
              1,
              "#f0f921"
             ]
            ],
            "type": "heatmap"
           }
          ],
          "histogram": [
           {
            "marker": {
             "pattern": {
              "fillmode": "overlay",
              "size": 10,
              "solidity": 0.2
             }
            },
            "type": "histogram"
           }
          ],
          "histogram2d": [
           {
            "colorbar": {
             "outlinewidth": 0,
             "ticks": ""
            },
            "colorscale": [
             [
              0,
              "#0d0887"
             ],
             [
              0.1111111111111111,
              "#46039f"
             ],
             [
              0.2222222222222222,
              "#7201a8"
             ],
             [
              0.3333333333333333,
              "#9c179e"
             ],
             [
              0.4444444444444444,
              "#bd3786"
             ],
             [
              0.5555555555555556,
              "#d8576b"
             ],
             [
              0.6666666666666666,
              "#ed7953"
             ],
             [
              0.7777777777777778,
              "#fb9f3a"
             ],
             [
              0.8888888888888888,
              "#fdca26"
             ],
             [
              1,
              "#f0f921"
             ]
            ],
            "type": "histogram2d"
           }
          ],
          "histogram2dcontour": [
           {
            "colorbar": {
             "outlinewidth": 0,
             "ticks": ""
            },
            "colorscale": [
             [
              0,
              "#0d0887"
             ],
             [
              0.1111111111111111,
              "#46039f"
             ],
             [
              0.2222222222222222,
              "#7201a8"
             ],
             [
              0.3333333333333333,
              "#9c179e"
             ],
             [
              0.4444444444444444,
              "#bd3786"
             ],
             [
              0.5555555555555556,
              "#d8576b"
             ],
             [
              0.6666666666666666,
              "#ed7953"
             ],
             [
              0.7777777777777778,
              "#fb9f3a"
             ],
             [
              0.8888888888888888,
              "#fdca26"
             ],
             [
              1,
              "#f0f921"
             ]
            ],
            "type": "histogram2dcontour"
           }
          ],
          "mesh3d": [
           {
            "colorbar": {
             "outlinewidth": 0,
             "ticks": ""
            },
            "type": "mesh3d"
           }
          ],
          "parcoords": [
           {
            "line": {
             "colorbar": {
              "outlinewidth": 0,
              "ticks": ""
             }
            },
            "type": "parcoords"
           }
          ],
          "pie": [
           {
            "automargin": true,
            "type": "pie"
           }
          ],
          "scatter": [
           {
            "fillpattern": {
             "fillmode": "overlay",
             "size": 10,
             "solidity": 0.2
            },
            "type": "scatter"
           }
          ],
          "scatter3d": [
           {
            "line": {
             "colorbar": {
              "outlinewidth": 0,
              "ticks": ""
             }
            },
            "marker": {
             "colorbar": {
              "outlinewidth": 0,
              "ticks": ""
             }
            },
            "type": "scatter3d"
           }
          ],
          "scattercarpet": [
           {
            "marker": {
             "colorbar": {
              "outlinewidth": 0,
              "ticks": ""
             }
            },
            "type": "scattercarpet"
           }
          ],
          "scattergeo": [
           {
            "marker": {
             "colorbar": {
              "outlinewidth": 0,
              "ticks": ""
             }
            },
            "type": "scattergeo"
           }
          ],
          "scattergl": [
           {
            "marker": {
             "colorbar": {
              "outlinewidth": 0,
              "ticks": ""
             }
            },
            "type": "scattergl"
           }
          ],
          "scattermap": [
           {
            "marker": {
             "colorbar": {
              "outlinewidth": 0,
              "ticks": ""
             }
            },
            "type": "scattermap"
           }
          ],
          "scattermapbox": [
           {
            "marker": {
             "colorbar": {
              "outlinewidth": 0,
              "ticks": ""
             }
            },
            "type": "scattermapbox"
           }
          ],
          "scatterpolar": [
           {
            "marker": {
             "colorbar": {
              "outlinewidth": 0,
              "ticks": ""
             }
            },
            "type": "scatterpolar"
           }
          ],
          "scatterpolargl": [
           {
            "marker": {
             "colorbar": {
              "outlinewidth": 0,
              "ticks": ""
             }
            },
            "type": "scatterpolargl"
           }
          ],
          "scatterternary": [
           {
            "marker": {
             "colorbar": {
              "outlinewidth": 0,
              "ticks": ""
             }
            },
            "type": "scatterternary"
           }
          ],
          "surface": [
           {
            "colorbar": {
             "outlinewidth": 0,
             "ticks": ""
            },
            "colorscale": [
             [
              0,
              "#0d0887"
             ],
             [
              0.1111111111111111,
              "#46039f"
             ],
             [
              0.2222222222222222,
              "#7201a8"
             ],
             [
              0.3333333333333333,
              "#9c179e"
             ],
             [
              0.4444444444444444,
              "#bd3786"
             ],
             [
              0.5555555555555556,
              "#d8576b"
             ],
             [
              0.6666666666666666,
              "#ed7953"
             ],
             [
              0.7777777777777778,
              "#fb9f3a"
             ],
             [
              0.8888888888888888,
              "#fdca26"
             ],
             [
              1,
              "#f0f921"
             ]
            ],
            "type": "surface"
           }
          ],
          "table": [
           {
            "cells": {
             "fill": {
              "color": "#EBF0F8"
             },
             "line": {
              "color": "white"
             }
            },
            "header": {
             "fill": {
              "color": "#C8D4E3"
             },
             "line": {
              "color": "white"
             }
            },
            "type": "table"
           }
          ]
         },
         "layout": {
          "annotationdefaults": {
           "arrowcolor": "#2a3f5f",
           "arrowhead": 0,
           "arrowwidth": 1
          },
          "autotypenumbers": "strict",
          "coloraxis": {
           "colorbar": {
            "outlinewidth": 0,
            "ticks": ""
           }
          },
          "colorscale": {
           "diverging": [
            [
             0,
             "#8e0152"
            ],
            [
             0.1,
             "#c51b7d"
            ],
            [
             0.2,
             "#de77ae"
            ],
            [
             0.3,
             "#f1b6da"
            ],
            [
             0.4,
             "#fde0ef"
            ],
            [
             0.5,
             "#f7f7f7"
            ],
            [
             0.6,
             "#e6f5d0"
            ],
            [
             0.7,
             "#b8e186"
            ],
            [
             0.8,
             "#7fbc41"
            ],
            [
             0.9,
             "#4d9221"
            ],
            [
             1,
             "#276419"
            ]
           ],
           "sequential": [
            [
             0,
             "#0d0887"
            ],
            [
             0.1111111111111111,
             "#46039f"
            ],
            [
             0.2222222222222222,
             "#7201a8"
            ],
            [
             0.3333333333333333,
             "#9c179e"
            ],
            [
             0.4444444444444444,
             "#bd3786"
            ],
            [
             0.5555555555555556,
             "#d8576b"
            ],
            [
             0.6666666666666666,
             "#ed7953"
            ],
            [
             0.7777777777777778,
             "#fb9f3a"
            ],
            [
             0.8888888888888888,
             "#fdca26"
            ],
            [
             1,
             "#f0f921"
            ]
           ],
           "sequentialminus": [
            [
             0,
             "#0d0887"
            ],
            [
             0.1111111111111111,
             "#46039f"
            ],
            [
             0.2222222222222222,
             "#7201a8"
            ],
            [
             0.3333333333333333,
             "#9c179e"
            ],
            [
             0.4444444444444444,
             "#bd3786"
            ],
            [
             0.5555555555555556,
             "#d8576b"
            ],
            [
             0.6666666666666666,
             "#ed7953"
            ],
            [
             0.7777777777777778,
             "#fb9f3a"
            ],
            [
             0.8888888888888888,
             "#fdca26"
            ],
            [
             1,
             "#f0f921"
            ]
           ]
          },
          "colorway": [
           "#636efa",
           "#EF553B",
           "#00cc96",
           "#ab63fa",
           "#FFA15A",
           "#19d3f3",
           "#FF6692",
           "#B6E880",
           "#FF97FF",
           "#FECB52"
          ],
          "font": {
           "color": "#2a3f5f"
          },
          "geo": {
           "bgcolor": "white",
           "lakecolor": "white",
           "landcolor": "#E5ECF6",
           "showlakes": true,
           "showland": true,
           "subunitcolor": "white"
          },
          "hoverlabel": {
           "align": "left"
          },
          "hovermode": "closest",
          "mapbox": {
           "style": "light"
          },
          "paper_bgcolor": "white",
          "plot_bgcolor": "#E5ECF6",
          "polar": {
           "angularaxis": {
            "gridcolor": "white",
            "linecolor": "white",
            "ticks": ""
           },
           "bgcolor": "#E5ECF6",
           "radialaxis": {
            "gridcolor": "white",
            "linecolor": "white",
            "ticks": ""
           }
          },
          "scene": {
           "xaxis": {
            "backgroundcolor": "#E5ECF6",
            "gridcolor": "white",
            "gridwidth": 2,
            "linecolor": "white",
            "showbackground": true,
            "ticks": "",
            "zerolinecolor": "white"
           },
           "yaxis": {
            "backgroundcolor": "#E5ECF6",
            "gridcolor": "white",
            "gridwidth": 2,
            "linecolor": "white",
            "showbackground": true,
            "ticks": "",
            "zerolinecolor": "white"
           },
           "zaxis": {
            "backgroundcolor": "#E5ECF6",
            "gridcolor": "white",
            "gridwidth": 2,
            "linecolor": "white",
            "showbackground": true,
            "ticks": "",
            "zerolinecolor": "white"
           }
          },
          "shapedefaults": {
           "line": {
            "color": "#2a3f5f"
           }
          },
          "ternary": {
           "aaxis": {
            "gridcolor": "white",
            "linecolor": "white",
            "ticks": ""
           },
           "baxis": {
            "gridcolor": "white",
            "linecolor": "white",
            "ticks": ""
           },
           "bgcolor": "#E5ECF6",
           "caxis": {
            "gridcolor": "white",
            "linecolor": "white",
            "ticks": ""
           }
          },
          "title": {
           "x": 0.05
          },
          "xaxis": {
           "automargin": true,
           "gridcolor": "white",
           "linecolor": "white",
           "ticks": "",
           "title": {
            "standoff": 15
           },
           "zerolinecolor": "white",
           "zerolinewidth": 2
          },
          "yaxis": {
           "automargin": true,
           "gridcolor": "white",
           "linecolor": "white",
           "ticks": "",
           "title": {
            "standoff": 15
           },
           "zerolinecolor": "white",
           "zerolinewidth": 2
          }
         }
        },
        "title": {
         "text": "Pullups Trend"
        },
        "xaxis": {
         "anchor": "y",
         "domain": [
          0,
          1
         ],
         "title": {
          "text": "New_Dates"
         }
        },
        "yaxis": {
         "anchor": "x",
         "domain": [
          0,
          1
         ],
         "title": {
          "text": "Set1"
         }
        }
       }
      }
     },
     "metadata": {},
     "output_type": "display_data"
    }
   ],
   "source": [
    "fig = px.line(final_df, x='New_Dates', y='Set1', title='Pullups Trend')\n",
    "fig.show()"
   ]
  },
  {
   "cell_type": "code",
   "execution_count": null,
   "metadata": {},
   "outputs": [],
   "source": []
  }
 ],
 "metadata": {
  "colab": {
   "authorship_tag": "ABX9TyMRNeHbEAvyy5OQv7608SgJ",
   "provenance": [],
   "toc_visible": true
  },
  "kernelspec": {
   "display_name": "repo_env",
   "language": "python",
   "name": "python3"
  },
  "language_info": {
   "codemirror_mode": {
    "name": "ipython",
    "version": 3
   },
   "file_extension": ".py",
   "mimetype": "text/x-python",
   "name": "python",
   "nbconvert_exporter": "python",
   "pygments_lexer": "ipython3",
   "version": "3.12.3"
  }
 },
 "nbformat": 4,
 "nbformat_minor": 0
}
